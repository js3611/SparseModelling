{
 "cells": [
  {
   "cell_type": "code",
   "execution_count": 5,
   "metadata": {
    "collapsed": true
   },
   "outputs": [],
   "source": [
    "import numpy as np\n",
    "import matplotlib.pyplot as plt\n",
    "import struct\n",
    "import sys\n",
    "import os\n",
    "% matplotlib inline"
   ]
  },
  {
   "cell_type": "code",
   "execution_count": 16,
   "metadata": {
    "collapsed": false
   },
   "outputs": [
    {
     "name": "stdout",
     "output_type": "stream",
     "text": [
      "/home/js3611/PycharmProjects/ISO/SparseModelling\n",
      "True\n",
      "True\n"
     ]
    }
   ],
   "source": [
    "print os.getcwd()\n",
    "print os.path.isfile('train-images.idx3-ubyte')\n",
    "print os.path.isfile('train-labels.idx1-ubyte')\n"
   ]
  },
  {
   "cell_type": "markdown",
   "metadata": {},
   "source": [
    "### Read Labels"
   ]
  },
  {
   "cell_type": "code",
   "execution_count": 33,
   "metadata": {
    "collapsed": true
   },
   "outputs": [],
   "source": [
    "def read_mnist_label(data_type='train'):\n",
    "    \n",
    "    if data_type == 'train':\n",
    "        name = 'train-labels.idx1-ubyte'\n",
    "    else:\n",
    "        name = 't10k-labels.idx1-ubyte'\n",
    "    \n",
    "    # Open file and read data\n",
    "    f_label_raw = open(name,'rb')\n",
    "    data = f_label_raw.read()\n",
    "    f_label_raw.close()\n",
    "\n",
    "    # Read number of labels and define offset\n",
    "    magic_number =  struct.unpack('>i',data[0:4]) #magic number\n",
    "    nlabels = struct.unpack('>i',data[4:8])[0] # nlabels\n",
    "    offset = 8\n",
    "\n",
    "    # Get labels\n",
    "    labels = np.array(struct.unpack('b'*len(data[8:]),data[8:]))\n",
    "\n",
    "    return labels"
   ]
  },
  {
   "cell_type": "code",
   "execution_count": 28,
   "metadata": {
    "collapsed": false
   },
   "outputs": [
    {
     "data": {
      "text/plain": [
       "[<matplotlib.lines.Line2D at 0x7f293a8ebf50>]"
      ]
     },
     "execution_count": 28,
     "metadata": {},
     "output_type": "execute_result"
    },
    {
     "data": {
      "image/png": "[encoded data removed]",
      "text/plain": [
       "<matplotlib.figure.Figure at 0x7f293a9f2450>"
      ]
     },
     "metadata": {},
     "output_type": "display_data"
    }
   ],
   "source": [
    "labels = read_mnist_label()\n",
    "# Plot histogram\n",
    "hist = np.histogram(labels,np.arange(11))\n",
    "plt.plot(hist[1][0:-1],hist[0])"
   ]
  },
  {
   "cell_type": "code",
   "execution_count": 34,
   "metadata": {
    "collapsed": false
   },
   "outputs": [],
   "source": [
    "def read_mnist_data(data_type='train'):\n",
    "    '''\n",
    "    Returns:\n",
    "        numpy array of mnist digits in 2D\n",
    "        \n",
    "    '''\n",
    "    if data_type == 'train':\n",
    "        name = 'train-images.idx3-ubyte'\n",
    "    else:\n",
    "        name = 't10k-images.idx3-ubyte'\n",
    "        \n",
    "    # Read data\n",
    "    f_raw = open(name,'rb')\n",
    "    data = f_raw.read()\n",
    "    f_raw.close()\n",
    "\n",
    "    # Read number of images\n",
    "    magic_number =  struct.unpack('>i',data[0:4]) #magic number\n",
    "    n, n_row, n_col = struct.unpack('>iii',data[4:16])\n",
    "    img_size = n_row * n_col\n",
    "    offset = 16\n",
    "    fmt = 'B'*img_size*n\n",
    "\n",
    "    # Read them and store in numpy array\n",
    "    images_unformatted = struct.unpack(fmt, data[offset:])\n",
    "    images = np.array(images_unformatted).reshape(n,n_row,n_col)\n",
    "    return images"
   ]
  },
  {
   "cell_type": "code",
   "execution_count": 31,
   "metadata": {
    "collapsed": false
   },
   "outputs": [
    {
     "data": {
      "text/plain": [
       "<matplotlib.image.AxesImage at 0x7f293a82c510>"
      ]
     },
     "execution_count": 31,
     "metadata": {},
     "output_type": "execute_result"
    },
    {
     "data": {
      "image/png": "[encoded data removed]",
      "text/plain": [
       "<matplotlib.figure.Figure at 0x7f2958e92250>"
      ]
     },
     "metadata": {},
     "output_type": "display_data"
    }
   ],
   "source": [
    "import matplotlib.cm as cm\n",
    "images = read_mnist_data()\n",
    "plt.imshow(images[0], cmap=cm.Greys_r)"
   ]
  },
  {
   "cell_type": "code",
   "execution_count": 35,
   "metadata": {
    "collapsed": false
   },
   "outputs": [],
   "source": [
    "def read_mnist():\n",
    "    train_x = read_mnist_data('train')\n",
    "    train_y = read_mnist_label('train')\n",
    "    test_x = read_mnist_data('test')\n",
    "    test_y = read_mnist_label('test')\n",
    "    return [(train_x, train_y),(test_x, test_y)]"
   ]
  },
  {
   "cell_type": "code",
   "execution_count": 36,
   "metadata": {
    "collapsed": true
   },
   "outputs": [],
   "source": [
    "data = read_mnist()"
   ]
  },
  {
   "cell_type": "code",
   "execution_count": 40,
   "metadata": {
    "collapsed": true
   },
   "outputs": [],
   "source": [
    "train, test = data\n",
    "train_x, train_y = train\n",
    "test_x, test_y = test"
   ]
  },
  {
   "cell_type": "code",
   "execution_count": 42,
   "metadata": {
    "collapsed": false
   },
   "outputs": [
    {
     "data": {
      "text/plain": [
       "<matplotlib.image.AxesImage at 0x7f29568cd650>"
      ]
     },
     "execution_count": 42,
     "metadata": {},
     "output_type": "execute_result"
    },
    {
     "data": {
      "image/png": "[encoded data removed]",
      "text/plain": [
       "<matplotlib.figure.Figure at 0x7f29569abdd0>"
      ]
     },
     "metadata": {},
     "output_type": "display_data"
    }
   ],
   "source": [
    "plt.imshow(test_x[1],cmap=cm.Greys_r)"
   ]
  },
  {
   "cell_type": "code",
   "execution_count": null,
   "metadata": {
    "collapsed": true
   },
   "outputs": [],
   "source": []
  }
 ],
 "metadata": {
  "kernelspec": {
   "display_name": "Python 2",
   "language": "python",
   "name": "python2"
  },
  "language_info": {
   "codemirror_mode": {
    "name": "ipython",
    "version": 2
   },
   "file_extension": ".py",
   "mimetype": "text/x-python",
   "name": "python",
   "nbconvert_exporter": "python",
   "pygments_lexer": "ipython2",
   "version": "2.7.10"
  }
 },
 "nbformat": 4,
 "nbformat_minor": 0
}
