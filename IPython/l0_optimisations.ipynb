{
 "cells": [
  {
   "cell_type": "code",
   "execution_count": 1,
   "metadata": {},
   "outputs": [],
   "source": [
    "import numpy as np\n",
    "import numpy.linalg as la\n",
    "import matplotlib.pyplot as plt\n",
    "\n",
    "\n",
    "%matplotlib inline"
   ]
  },
  {
   "cell_type": "markdown",
   "metadata": {},
   "source": [
    "##### Helpers"
   ]
  },
  {
   "cell_type": "code",
   "execution_count": 2,
   "metadata": {},
   "outputs": [],
   "source": [
    "def sqnorm(x):\n",
    "    return np.dot(x,x)"
   ]
  },
  {
   "cell_type": "markdown",
   "metadata": {},
   "source": [
    "## Sparse Reconstruction with $l_0$-penalty:\n",
    "\n",
    "$$\\min_{\\alpha \\in \\mathbf{R}^P} ||x - D \\alpha||_2^2 \\quad s.t. ||\\alpha||_0 \\leq k$$"
   ]
  },
  {
   "cell_type": "markdown",
   "metadata": {},
   "source": [
    "### Coordinate Descent Algorithms"
   ]
  },
  {
   "cell_type": "markdown",
   "metadata": {},
   "source": [
    "#### Matching Pursuit"
   ]
  },
  {
   "cell_type": "code",
   "execution_count": 3,
   "metadata": {},
   "outputs": [],
   "source": [
    "def matching_pursuit(D, x, k_max=10, eps=1e-10, max_itr=1000):\n",
    "    itr     = 0    \n",
    "    m, p    = D.shape\n",
    "    alpha   = np.zeros(p)\n",
    "    k = 0\n",
    "    obj_values = []\n",
    "    while k < k_max and itr < max_itr:\n",
    "        d_prod = np.dot(D.T, x - np.dot(D,alpha))\n",
    "        j = np.argmax(np.abs(d_prod))\n",
    "        if alpha[j] == 0:\n",
    "            k += 1\n",
    "        \n",
    "        alpha[j] += d_prod[j]\n",
    "        itr += 1\n",
    "        diff = sqnorm(x - np.dot(D,alpha))\n",
    "        # print diff\n",
    "        obj_values.append(diff)\n",
    "    \n",
    "    return (alpha, obj_values)"
   ]
  },
  {
   "cell_type": "code",
   "execution_count": 4,
   "metadata": {},
   "outputs": [
    {
     "data": {
      "text/plain": [
       "[<matplotlib.lines.Line2D at 0x7f61a8792890>]"
      ]
     },
     "execution_count": 4,
     "output_type": "execute_result",
     "metadata": {}
    },
    {
     "data": {
      "image/png": "[encoded data removed]"
     },
     "output_type": "display_data",
     "metadata": {}
    }
   ],
   "source": [
    "m = 160              # dimension of each atom\n",
    "p = 100              # number of atoms\n",
    "rand = np.random.rand\n",
    "D = rand(m*p).reshape(m,p)    # dictionary\n",
    "x = rand(m)\n",
    "# normalise by column\n",
    "D = D / la.norm(D,axis=0)\n",
    "x = x / la.norm(x)\n",
    "\n",
    "alpha, obj_values = matching_pursuit(D, x, k_max=3, max_itr=100)\n",
    "s = \"sparsity: {}\".format(len(np.nonzero(alpha)[0]))\n",
    "plt.subplot(3, 1, 1)\n",
    "plt.title(s)\n",
    "plt.plot(np.array(obj_values))\n",
    "\n",
    "alpha, obj_values = matching_pursuit(D, x, k_max=5, max_itr=100)\n",
    "s2 = \"sparsity: {}\".format(len(np.nonzero(alpha)[0]))\n",
    "plt.subplot(3, 1, 2)\n",
    "plt.title(s2)\n",
    "plt.plot(np.array(obj_values))"
   ]
  },
  {
   "cell_type": "markdown",
   "metadata": {},
   "source": [
    "#### Orthogonal Matching Pursuit (OMP)"
   ]
  },
  {
   "cell_type": "code",
   "execution_count": 5,
   "metadata": {},
   "outputs": [],
   "source": [
    "def orthogonal_matching_pursuit(D, x, k_max=10, eps=1e-10, max_itr=1000):\n",
    "    itr     = 0\n",
    "    m, p    = D.shape\n",
    "    # print \"p: {}\".format(p)\n",
    "    k = 0\n",
    "    alpha   = np.zeros(p)\n",
    "    active_set = []\n",
    "    obj_values = []\n",
    "    while len(active_set) < k_max and itr < max_itr:\n",
    "        min_j = 0\n",
    "        min_beta = 0\n",
    "        delta = sqnorm(x)\n",
    "        # pick dictionary element which minimises residual\n",
    "        for j in xrange(p):\n",
    "            if j not in active_set:                \n",
    "                gamma = active_set + [j]\n",
    "                D_gamma = D[:,gamma]\n",
    "                # Compute: (D_gamma.T * D_gamma)^-1 * D_gamma.T * x\n",
    "                beta = np.dot(la.inv(np.dot(D_gamma.T,D_gamma)),np.dot(D_gamma.T,x))\n",
    "                x_projected = np.dot(D_gamma, beta)\n",
    "                curr_delta = sqnorm(x - x_projected)\n",
    "                #print \"j:{}, active_set:{}, delta:{}\".format(j,active_set,curr_delta)\n",
    "                if curr_delta <= delta:\n",
    "                    delta = curr_delta\n",
    "                    min_j = j\n",
    "                    min_beta = beta\n",
    "        \n",
    "        # update active set and the solution alpha\n",
    "        active_set += [min_j]\n",
    "        alpha[active_set] = min_beta\n",
    "        complement_set = [idx for idx in xrange(p) if idx not in active_set ]\n",
    "        alpha[complement_set] = 0\n",
    "        itr += 1\n",
    "        # diff = sqnorm(x - np.dot(D,alpha)) # this should be the same as delta \n",
    "        # print diff \n",
    "        # obj_values.append(diff)\n",
    "        obj_values.append(delta)\n",
    "    \n",
    "    return (alpha, obj_values)"
   ]
  },
  {
   "cell_type": "code",
   "execution_count": 21,
   "metadata": {},
   "outputs": [
    {
     "data": {
      "text/plain": [
       "[<matplotlib.lines.Line2D at 0x7f61a81a6b90>]"
      ]
     },
     "execution_count": 21,
     "output_type": "execute_result",
     "metadata": {}
    },
    {
     "data": {
      "image/png": "[encoded data removed]"
     },
     "output_type": "display_data",
     "metadata": {}
    }
   ],
   "source": [
    "m = 10              # dimension of each atom\n",
    "p = 5              # number of atoms\n",
    "rand = np.random.normal\n",
    "D = rand(size=[m,p])    # dictionary\n",
    "x = rand(size=m)\n",
    "# normalise by column\n",
    "D = D / np.linalg.norm(D,axis=0)\n",
    "x = x / np.linalg.norm(x)\n",
    "\n",
    "alpha, obj_values = orthogonal_matching_pursuit(D, x, k_max=3)\n",
    "s = \"sparsity: {}\".format(len(np.nonzero(alpha)[0]))\n",
    "plt.subplot(3, 1, 1)\n",
    "plt.title(s)\n",
    "plt.plot(np.array(obj_values))\n",
    "\n",
    "alpha, obj_values = orthogonal_matching_pursuit(D, x, k_max=4)\n",
    "s2 = \"sparsity: {}\".format(len(np.nonzero(alpha)[0]))\n",
    "plt.subplot(3, 1, 2)\n",
    "plt.title(s2)\n",
    "plt.plot(np.array(obj_values))"
   ]
  },
  {
   "cell_type": "code",
   "execution_count": 16,
   "metadata": {},
   "outputs": [],
   "source": [
    "?np.random.normal"
   ]
  },
  {
   "cell_type": "markdown",
   "metadata": {},
   "source": [
    "Q. It still monotonically decreases like in MP. However, in MP, the rate of convergence also monotonically decreased (gave me a nice curve for decrease in obj function) but not here. I guess orthogonal projection isn't \"greedy\" in that sense? "
   ]
  },
  {
   "cell_type": "markdown",
   "metadata": {},
   "source": [
    "### Gradient Descent Techniques"
   ]
  },
  {
   "cell_type": "markdown",
   "metadata": {},
   "source": [
    "Solves $$\\min_{\\alpha \\in \\mathbf{R}^P} ||x - D \\alpha||_2^2 + \\lambda ||\\alpha||_0$$"
   ]
  },
  {
   "cell_type": "markdown",
   "metadata": {},
   "source": [
    "### Iterative hard-thresholding"
   ]
  },
  {
   "cell_type": "code",
   "execution_count": 34,
   "metadata": {},
   "outputs": [],
   "source": [
    "import heapq\n",
    "\n",
    "def nth_largest(n, itr):\n",
    "    return heapq.nlargest(n, itr)[-1]\n",
    "\n",
    "def hard_thresholding(elt, threshold):\n",
    "    return elt if np.abs(elt) >= threshold else 0\n",
    "\n",
    "def iterative_hard_thresholding(D, x, k_max=None, lmbda=None, mu=0.01, alpha=None, T=100):\n",
    "    '''\n",
    "    Parameters:\n",
    "        x     - input vector\n",
    "        D     - dictionary\n",
    "        k_max - target sparsity\n",
    "        lmbda - sparsity penalty\n",
    "        mu    - step size for each gradient descent\n",
    "        alpha - initial alpha\n",
    "        T     - # of iteration\n",
    "    '''\n",
    "    m, p    = D.shape\n",
    "    if not lmbda:\n",
    "        lmbda = 0.1\n",
    "    tau = np.sqrt(2 * lmbda)\n",
    "        \n",
    "    if not alpha:\n",
    "        alpha   = np.zeros(p)\n",
    "    obj_values = []\n",
    "    for i in xrange(T):\n",
    "        # perform one step gradient\n",
    "        alpha = alpha + mu * np.dot(D.T, x - np.dot(D,alpha))\n",
    "        \n",
    "        if k_max:\n",
    "            # pick k largest elements\n",
    "            tau = nth_largest(k_max, alpha)\n",
    "\n",
    "            \n",
    "#         print alpha\n",
    "        \n",
    "        alpha = map(hard_thresholding, alpha, [tau]*p)\n",
    "            \n",
    "        obj_values.append(sqnorm(x - np.dot(D,alpha)))\n",
    "            \n",
    "    return alpha, obj_values"
   ]
  },
  {
   "cell_type": "code",
   "execution_count": 49,
   "metadata": {},
   "outputs": [
    {
     "data": {
      "text/plain": [
       "[<matplotlib.lines.Line2D at 0x7fdda59b99d0>]"
      ]
     },
     "execution_count": 49,
     "output_type": "execute_result",
     "metadata": {}
    },
    {
     "data": {
      "image/png": "[encoded data removed]"
     },
     "output_type": "display_data",
     "metadata": {}
    }
   ],
   "source": [
    "m = 10                     # dimension of each atom\n",
    "p = 50                      # number of atoms\n",
    "rand = np.random.rand\n",
    "D = rand(m*p).reshape(m,p) # dictionary\n",
    "x = rand(m)\n",
    "\n",
    "# normalise by column\n",
    "D = D / np.linalg.norm(D,axis=0)\n",
    "x = x / np.linalg.norm(x)\n",
    "\n",
    "alpha, obj_values = iterative_hard_thresholding(D, x, k_max=10)\n",
    "s = \"sparsity: {}\".format(len(np.nonzero(alpha)[0]))\n",
    "plt.subplot(3, 1, 1)\n",
    "plt.title(s)\n",
    "plt.plot(np.array(obj_values))\n",
    "\n",
    "alpha, obj_values = iterative_hard_thresholding(D, x, lmbda=0.003, mu=0.1)\n",
    "s2 = \"sparsity: {}\".format(len(np.nonzero(alpha)[0]))\n",
    "plt.subplot(3, 1, 2)\n",
    "plt.title(s2)\n",
    "plt.plot(np.array(obj_values))"
   ]
  },
  {
   "cell_type": "markdown",
   "metadata": {},
   "source": [
    "How to pick lambda and the stepsize mu?"
   ]
  },
  {
   "cell_type": "code",
   "execution_count": null,
   "metadata": {},
   "outputs": [],
   "source": [
    ""
   ]
  }
 ],
 "metadata": {
  "kernelspec": {
   "display_name": "Python 2",
   "language": "python",
   "name": "python2"
  },
  "language_info": {
   "codemirror_mode": {
    "name": "ipython",
    "version": 2.0
   },
   "file_extension": ".py",
   "mimetype": "text/x-python",
   "name": "python",
   "nbconvert_exporter": "python",
   "pygments_lexer": "ipython2",
   "version": "2.7.10"
  }
 },
 "nbformat": 4,
 "nbformat_minor": 0
}