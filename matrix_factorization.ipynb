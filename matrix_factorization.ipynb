{
 "cells": [
  {
   "cell_type": "code",
   "execution_count": null,
   "metadata": {
    "collapsed": true
   },
   "outputs": [],
   "source": [
    "def pca(X, pc):\n",
    "    # demean X\n",
    "    \n",
    "    # get covariance of x\n",
    "    \n",
    "def whitening(X, eps=10e-6):\n",
    "    # X = [m,n]\n",
    "    # returns transformation for mapping\n",
    "    covX = np.dot(X,X.T) / len(X)\n",
    "    \n",
    "    w, v = linalg.eig(covX)\n",
    "    w = np.real(w)\n",
    "    idx = w > eps\n",
    "    w = np.sqrt(w[idx])\n",
    "    v = np.real(v[:,idx])\n",
    "\n",
    "    ## sort by decreasing order of eigen vals\n",
    "    #     idx = w.argsort()[::-1]\n",
    "    #     w = w[idx]\n",
    "    #     v = v[:,idx]\n",
    "    w_inv = 1 / w \n",
    "\n",
    "    transform = np.dot(np.dot(v, np.diag(w_inv)), v.T)\n",
    "    \n",
    "    return transform"
   ]
  }
 ],
 "metadata": {
  "kernelspec": {
   "display_name": "Python 2",
   "language": "python",
   "name": "python2"
  },
  "language_info": {
   "codemirror_mode": {
    "name": "ipython",
    "version": 2
   },
   "file_extension": ".py",
   "mimetype": "text/x-python",
   "name": "python",
   "nbconvert_exporter": "python",
   "pygments_lexer": "ipython2",
   "version": "2.7.10"
  }
 },
 "nbformat": 4,
 "nbformat_minor": 0
}
