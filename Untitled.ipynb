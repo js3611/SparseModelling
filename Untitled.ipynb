{
 "cells": [
  {
   "cell_type": "code",
   "execution_count": 37,
   "metadata": {
    "collapsed": false
   },
   "outputs": [
    {
     "ename": "IndexError",
     "evalue": "index 20 is out of bounds for axis 1 with size 20",
     "output_type": "error",
     "traceback": [
      "\u001b[1;31m---------------------------------------------------------------------------\u001b[0m",
      "\u001b[1;31mIndexError\u001b[0m                                Traceback (most recent call last)",
      "\u001b[1;32m<ipython-input-37-f28014a60f23>\u001b[0m in \u001b[0;36m<module>\u001b[1;34m()\u001b[0m\n\u001b[0;32m     67\u001b[0m             \u001b[1;32mbreak\u001b[0m\u001b[1;33m\u001b[0m\u001b[0m\n\u001b[0;32m     68\u001b[0m \u001b[1;33m\u001b[0m\u001b[0m\n\u001b[1;32m---> 69\u001b[1;33m         \u001b[0mbigMat\u001b[0m\u001b[1;33m[\u001b[0m\u001b[1;36m28\u001b[0m\u001b[1;33m*\u001b[0m\u001b[0mj\u001b[0m\u001b[1;33m:\u001b[0m\u001b[1;36m28\u001b[0m\u001b[1;33m*\u001b[0m\u001b[1;33m(\u001b[0m\u001b[0mj\u001b[0m\u001b[1;33m+\u001b[0m\u001b[1;36m1\u001b[0m\u001b[1;33m)\u001b[0m\u001b[1;33m,\u001b[0m \u001b[1;36m28\u001b[0m\u001b[1;33m*\u001b[0m\u001b[0mi\u001b[0m\u001b[1;33m:\u001b[0m\u001b[1;36m28\u001b[0m\u001b[1;33m*\u001b[0m\u001b[1;33m(\u001b[0m\u001b[0mi\u001b[0m\u001b[1;33m+\u001b[0m\u001b[1;36m1\u001b[0m\u001b[1;33m)\u001b[0m\u001b[1;33m]\u001b[0m \u001b[1;33m=\u001b[0m \u001b[0mD\u001b[0m\u001b[1;33m[\u001b[0m\u001b[1;33m:\u001b[0m\u001b[1;33m,\u001b[0m\u001b[0mj\u001b[0m\u001b[1;33m*\u001b[0m\u001b[1;36m10\u001b[0m\u001b[1;33m+\u001b[0m\u001b[0mi\u001b[0m\u001b[1;33m]\u001b[0m\u001b[1;33m.\u001b[0m\u001b[0mreshape\u001b[0m\u001b[1;33m(\u001b[0m\u001b[1;36m28\u001b[0m\u001b[1;33m,\u001b[0m\u001b[1;36m28\u001b[0m\u001b[1;33m)\u001b[0m\u001b[1;33m\u001b[0m\u001b[0m\n\u001b[0m\u001b[0;32m     70\u001b[0m \u001b[1;33m\u001b[0m\u001b[0m\n\u001b[0;32m     71\u001b[0m \u001b[0mplt\u001b[0m\u001b[1;33m.\u001b[0m\u001b[0mfigure\u001b[0m\u001b[1;33m(\u001b[0m\u001b[1;36m0\u001b[0m\u001b[1;33m)\u001b[0m\u001b[1;33m\u001b[0m\u001b[0m\n",
      "\u001b[1;31mIndexError\u001b[0m: index 20 is out of bounds for axis 1 with size 20"
     ]
    }
   ],
   "source": [
    "\n",
    "# coding: utf-8\n",
    "\n",
    "# In[1]:\n",
    "\n",
    "import numpy as np\n",
    "import numpy.random as random\n",
    "import numpy.linalg as linalg\n",
    "import matplotlib.pyplot as plt\n",
    "from ReadMNIST import read_mnist, read_mnist_data\n",
    "from dictionary_learning import k_svd, stochastic_gradient_descent\n",
    "\n",
    "% matplotlib inline\n",
    "\n",
    "# get_ipython().magic(u'matplotlib inline')\n",
    "\n",
    "\n",
    "# In[2]:\n",
    "\n",
    "# data = read_mnist()\n",
    "# train, test = data\n",
    "# train_x, train_y = train\n",
    "# test_x, test_y = test\n",
    "\n",
    "# data = read_mnist_data('test')\n",
    "# test_x = data[0:10]\n",
    "\n",
    "# In[3]:\n",
    "\n",
    "#plt.imshow(train_x[0])\n",
    "\n",
    "\n",
    "# In[8]:\n",
    "\n",
    "import pickle \n",
    "\n",
    "pkl_file = open('sample_data.pkl','rb')\n",
    "data = pickle.load(pkl_file)\n",
    "pkl_file.close()\n",
    "\n",
    "# normalise by column\n",
    "X = data / linalg.norm(data, axis=0)\n",
    "\n",
    "m, n = X.shape\n",
    "\n",
    "# n, row, col = test_x.shape\n",
    "# X = test_x.reshape(n, row*col)[0:10].T\n",
    "# print X.shape\n",
    "\n",
    "# In[9]:\n",
    "\n",
    "p = 20\n",
    "D = random.rand(m, p) \n",
    "D = D / linalg.norm(D, axis=0)      # normalise by column\n",
    "\n",
    "D = k_svd(X, D, mu=5, T=10)\n",
    "\n",
    "\n",
    "# In[9]:\n",
    "\n",
    "\n",
    "bigMat = np.zeros((28*10 + 10, 28*10 + 10))\n",
    "\n",
    "for j in xrange(10):\n",
    "    for i in xrange(10):\n",
    "        if i * 10 + j >= p:\n",
    "            break\n",
    "        d = D[:,j*10+i].reshape(28,28)\n",
    "        bigMat[28*j:28*(j+1), 28*i:28*(i+1)] = \n",
    "\n",
    "plt.figure(0)\n",
    "import matplotlib.cm as cm\n",
    "plt.imshow(bigMat, cmap=cm.Greys_r)\n",
    "\n",
    "# In[ ]:"
   ]
  },
  {
   "cell_type": "code",
   "execution_count": null,
   "metadata": {
    "collapsed": true
   },
   "outputs": [],
   "source": []
  },
  {
   "cell_type": "code",
   "execution_count": null,
   "metadata": {
    "collapsed": true
   },
   "outputs": [],
   "source": []
  }
 ],
 "metadata": {
  "kernelspec": {
   "display_name": "Python 2",
   "language": "python",
   "name": "python2"
  },
  "language_info": {
   "codemirror_mode": {
    "name": "ipython",
    "version": 2
   },
   "file_extension": ".py",
   "mimetype": "text/x-python",
   "name": "python",
   "nbconvert_exporter": "python",
   "pygments_lexer": "ipython2",
   "version": "2.7.10"
  }
 },
 "nbformat": 4,
 "nbformat_minor": 0
}
