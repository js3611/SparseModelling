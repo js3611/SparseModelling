{
 "cells": [
  {
   "cell_type": "markdown",
   "metadata": {},
   "source": [
    "## Sparse Reconstruction with $l_1$-penalty:"
   ]
  },
  {
   "cell_type": "code",
   "execution_count": 15,
   "metadata": {
    "collapsed": true
   },
   "outputs": [],
   "source": [
    "import numpy as np\n",
    "import numpy.random as rand\n",
    "import numpy.linalg as la\n",
    "import matplotlib.pyplot as plt\n",
    "\n",
    "\n",
    "%matplotlib inline"
   ]
  },
  {
   "cell_type": "markdown",
   "metadata": {},
   "source": [
    "##### Helpers"
   ]
  },
  {
   "cell_type": "code",
   "execution_count": 34,
   "metadata": {
    "collapsed": true
   },
   "outputs": [],
   "source": [
    "def sqnorm(x):\n",
    "    return np.dot(x,x)\n",
    "\n",
    "def soft_threshold(x, soft_thres):\n",
    "    return np.sign(x) * np.maximum(np.abs(x) - soft_thres, 0)"
   ]
  },
  {
   "cell_type": "markdown",
   "metadata": {},
   "source": [
    "## Lasso:\n",
    "\n",
    "$$\\min_{\\alpha \\in \\mathbf{R}^P} \\frac{1}{2}||x - D \\alpha||_2^2 + \\lambda ||\\alpha||_1$$"
   ]
  },
  {
   "cell_type": "markdown",
   "metadata": {},
   "source": [
    "#### Coordinate Descent Algorithm"
   ]
  },
  {
   "cell_type": "code",
   "execution_count": 37,
   "metadata": {
    "collapsed": false
   },
   "outputs": [],
   "source": [
    "def get_next_idx_cycle(D, x, p):\n",
    "    def f(i):\n",
    "        return (i + 1) % p\n",
    "    return f\n",
    "\n",
    "def get_next_idx_uniform(D, x, p):\n",
    "    def f(i):\n",
    "        return rand.randint(0,p-1)\n",
    "    return f\n",
    "\n",
    "def get_next_idx_orthog_projection(D, x, p):\n",
    "    return i\n",
    "\n",
    "idx_iterators = {'cycle':get_next_idx_cycle}\n",
    "\n",
    "def coordinate_descent(D, x, lmbda, T=100, alpha=None,select='cycle'):\n",
    "    '''\n",
    "    Parameters:\n",
    "        x     - input vector\n",
    "        D     - dictionary\n",
    "        lmbda - sparsity penalty\n",
    "        alpha - initial alpha\n",
    "        T     - # of iteration\n",
    "    '''\n",
    "    m, p = D.shape\n",
    "    obj_values = []\n",
    "\n",
    "    # define rules to pick next idx\n",
    "    j = -1\n",
    "    get_next = idx_iterators[select](D,x,p)\n",
    "\n",
    "    if not alpha:\n",
    "        alpha = np.zeros(p)\n",
    "   \n",
    "    for t in xrange(T):        \n",
    "        j = get_next(j)\n",
    "        d = D[:,j]\n",
    "        alpha_update = alpha[j] + np.dot(d, x - np.dot(D, alpha)) / sqnorm(d)\n",
    "        alpha[j] = soft_threshold(alpha_update, lmbda)\n",
    "\n",
    "        obj_values.append(sqnorm(x - np.dot(D,alpha)))\n",
    "        \n",
    "    return alpha, obj_values\n",
    "    "
   ]
  },
  {
   "cell_type": "code",
   "execution_count": 42,
   "metadata": {
    "collapsed": false
   },
   "outputs": [
    {
     "data": {
      "text/plain": [
       "[<matplotlib.lines.Line2D at 0x7fe0900b22d0>]"
      ]
     },
     "execution_count": 42,
     "metadata": {},
     "output_type": "execute_result"
    },
    {
     "data": {
      "image/png": "[encoded data removed]",
      "text/plain": [
       "<matplotlib.figure.Figure at 0x7fe0901fcdd0>"
      ]
     },
     "metadata": {},
     "output_type": "display_data"
    }
   ],
   "source": [
    "m = 30                     # dimension of each atom\n",
    "p = 100                      # number of atoms\n",
    "rand = np.random.rand\n",
    "D = rand(m*p).reshape(m,p) # dictionary\n",
    "x = rand(m)\n",
    "\n",
    "# normalise by column\n",
    "D = D / np.linalg.norm(D,axis=0)\n",
    "x = x / np.linalg.norm(x)\n",
    "\n",
    "alpha, obj_values = coordinate_descent(D, x, 0.01)\n",
    "s = \"sparsity: {}\".format(len(np.nonzero(alpha)[0]))\n",
    "plt.subplot(3, 1, 1)\n",
    "plt.title(s)\n",
    "plt.plot(np.array(obj_values))\n",
    "\n",
    "alpha, obj_values = coordinate_descent(D, x, 0.5)\n",
    "s2 = \"sparsity: {}\".format(len(np.nonzero(alpha)[0]))\n",
    "plt.subplot(3, 1, 2)\n",
    "plt.title(s2)\n",
    "plt.plot(np.array(obj_values))"
   ]
  },
  {
   "cell_type": "markdown",
   "metadata": {},
   "source": [
    "Again, how to pick lambda?"
   ]
  },
  {
   "cell_type": "markdown",
   "metadata": {},
   "source": [
    "### Proximal Gradient Algorithm"
   ]
  },
  {
   "cell_type": "markdown",
   "metadata": {},
   "source": [
    "#### Iterative Soft-Thresholding"
   ]
  },
  {
   "cell_type": "code",
   "execution_count": 44,
   "metadata": {
    "collapsed": false
   },
   "outputs": [],
   "source": [
    "def proximal_gradient(D, x, lmbda=None, mu=None, step_size=None, T=100, alpha=None):\n",
    "    m, p = D.shape\n",
    "    if not alpha:\n",
    "        alpha = np.zeros(p)\n",
    "    obj_values = []\n",
    "    for t in xrange(T):\n",
    "        # one step gradient descent\n",
    "\n",
    "        ### TODO ###\n",
    "        \n",
    "        # solve minimisation of alpha with constraint on penalty func\n",
    "\n",
    "        ### TODO ###\n",
    "        \n",
    "        continue\n",
    "        \n",
    "    return alpha, obj_values\n",
    "        "
   ]
  },
  {
   "cell_type": "markdown",
   "metadata": {
    "collapsed": true
   },
   "source": [
    "#### Homotopy"
   ]
  },
  {
   "cell_type": "code",
   "execution_count": 47,
   "metadata": {
    "collapsed": true
   },
   "outputs": [],
   "source": [
    "def homotopy(D, x, lmbda=None, mu=None, step_size=None, T=100, alpha=None):\n",
    "    m, p = D.shape\n",
    "    if not alpha:\n",
    "        alpha = np.zeros(p)\n",
    "    obj_values = []\n",
    "    for t in xrange(T):\n",
    "        # one step gradient descent\n",
    "\n",
    "        ### TODO ###\n",
    "        \n",
    "        # solve minimisation of alpha with constraint on penalty func\n",
    "\n",
    "        ### TODO ###\n",
    "        continue\n",
    "        \n",
    "    return alpha, obj_values\n",
    "        "
   ]
  },
  {
   "cell_type": "code",
   "execution_count": null,
   "metadata": {
    "collapsed": true
   },
   "outputs": [],
   "source": []
  }
 ],
 "metadata": {
  "kernelspec": {
   "display_name": "Python 2",
   "language": "python",
   "name": "python2"
  },
  "language_info": {
   "codemirror_mode": {
    "name": "ipython",
    "version": 2
   },
   "file_extension": ".py",
   "mimetype": "text/x-python",
   "name": "python",
   "nbconvert_exporter": "python",
   "pygments_lexer": "ipython2",
   "version": "2.7.10"
  }
 },
 "nbformat": 4,
 "nbformat_minor": 0
}
